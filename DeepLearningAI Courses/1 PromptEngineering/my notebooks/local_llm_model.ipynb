{
 "cells": [
  {
   "cell_type": "code",
   "execution_count": null,
   "id": "966ec770",
   "metadata": {},
   "outputs": [],
   "source": [
    "from transformers import AutoTokenizer, AutoModelForCausalLM\n"
   ]
  },
  {
   "cell_type": "code",
   "execution_count": null,
   "id": "d4e25fae",
   "metadata": {},
   "outputs": [],
   "source": [
    "\n",
    "# 1. Download and load the model\n",
    "model_id = \"meta-llama/Llama-3.2-3B-Instruct\"\n",
    "#model_id = \"meta-llama/Meta-Llama-3-8B-Instruct\""
   ]
  },
  {
   "cell_type": "code",
   "execution_count": null,
   "id": "f53b992f",
   "metadata": {},
   "outputs": [],
   "source": [
    "\n",
    "# For Llama models, you'll need to use AutoModelForCausalLM instead of AutoModel\n",
    "tokenizer = AutoTokenizer.from_pretrained(model_id)\n",
    "model = AutoModelForCausalLM.from_pretrained(model_id)\n"
   ]
  },
  {
   "cell_type": "code",
   "execution_count": null,
   "id": "53eac6a0",
   "metadata": {},
   "outputs": [],
   "source": [
    "\n",
    "# 2. Save locally\n",
    "local_directory = \"./llama_3_2_3b_instruct\"\n",
    "\n",
    "model.save_pretrained(local_directory)\n",
    "tokenizer.save_pretrained(local_directory)\n"
   ]
  },
  {
   "cell_type": "code",
   "execution_count": null,
   "id": "b5156569",
   "metadata": {},
   "outputs": [],
   "source": [
    "\n",
    "# 3. Load from local directory later\n",
    "local_model = AutoModelForCausalLM.from_pretrained(local_directory)\n",
    "local_tokenizer = AutoTokenizer.from_pretrained(local_directory)\n",
    "\n",
    "# 4. Generate text with the model\n",
    "inputs = tokenizer(\"Write a short poem about programming:\", return_tensors=\"pt\")\n",
    "outputs = model.generate(**inputs, max_length=100)\n",
    "print(tokenizer.decode(outputs[0], skip_special_tokens=True))"
   ]
  },
  {
   "cell_type": "code",
   "execution_count": null,
   "id": "f0af05f2",
   "metadata": {},
   "outputs": [],
   "source": [
    "from transformers import AutoTokenizer, AutoModelForCausalLM, BitsAndBytesConfig\n",
    "\n",
    "# 1. Set up quantization configuration\n",
    "quantization_config = BitsAndBytesConfig(\n",
    "    load_in_4bit=True,\n",
    "    bnb_4bit_compute_dtype=\"float16\",\n",
    "    bnb_4bit_quant_type=\"nf4\"\n",
    ")\n",
    "\n",
    "# 2. Download and load the model with quantization\n",
    "model_id = \"meta-llama/Llama-3.2-3B-Instruct\"\n",
    "\n",
    "# Authentication required\n",
    "hf_token = \"your_hf_token\"  # Replace with your actual HuggingFace token\n",
    "\n",
    "# Load tokenizer and model\n",
    "tokenizer = AutoTokenizer.from_pretrained(model_id, token=hf_token)\n",
    "model = AutoModelForCausalLM.from_pretrained(\n",
    "    model_id,\n",
    "    token=hf_token,\n",
    "    quantization_config=quantization_config,\n",
    "    device_map=\"auto\"  # Automatically decide device placement\n",
    ")\n",
    "\n",
    "# 3. Save locally\n",
    "local_directory = \"./llama_3_2_3b_instruct_quantized\"\n",
    "model.save_pretrained(local_directory)\n",
    "tokenizer.save_pretrained(local_directory)\n",
    "\n",
    "# 4. Load from local directory later\n",
    "# Note: When loading quantized models, you need to specify the quantization config again\n",
    "local_model = AutoModelForCausalLM.from_pretrained(\n",
    "    local_directory,\n",
    "    quantization_config=quantization_config,\n",
    "    device_map=\"auto\"\n",
    ")\n",
    "local_tokenizer = AutoTokenizer.from_pretrained(local_directory)\n",
    "\n",
    "# 5. Generate text with the model\n",
    "prompt = \"\"\"<|begin_of_text|><|start_header_id|>system<|end_header_id|>\n",
    "You are a helpful assistant.<|eot_id|><|start_header_id|>user<|end_header_id|>\n",
    "Write a short poem about programming.<|eot_id|><|start_header_id|>assistant<|end_header_id|>\"\"\"\n",
    "\n",
    "inputs = tokenizer(prompt, return_tensors=\"pt\").to(local_model.device)\n",
    "outputs = local_model.generate(**inputs, max_length=200, temperature=0.7, top_p=0.9)\n",
    "print(tokenizer.decode(outputs[0], skip_special_tokens=True))"
   ]
  },
  {
   "cell_type": "code",
   "execution_count": null,
   "id": "6f1d2fd2",
   "metadata": {},
   "outputs": [],
   "source": []
  }
 ],
 "metadata": {
  "kernelspec": {
   "display_name": ".venv",
   "language": "python",
   "name": "python3"
  },
  "language_info": {
   "codemirror_mode": {
    "name": "ipython",
    "version": 3
   },
   "file_extension": ".py",
   "mimetype": "text/x-python",
   "name": "python",
   "nbconvert_exporter": "python",
   "pygments_lexer": "ipython3",
   "version": "3.13.2"
  }
 },
 "nbformat": 4,
 "nbformat_minor": 5
}
